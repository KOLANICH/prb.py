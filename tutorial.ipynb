{
 "cells": [
  {
   "cell_type": "code",
   "execution_count": 1,
   "id": "requested-insured",
   "metadata": {},
   "outputs": [],
   "source": [
    "import prb\n",
    "from pathlib import Path\n",
    "\n",
    "prbFile = Path(\"./tests/mafia_2.prb\")"
   ]
  },
  {
   "cell_type": "markdown",
   "id": "loose-equality",
   "metadata": {},
   "source": [
    "If one passes a `Path`, the file is read automatically."
   ]
  },
  {
   "cell_type": "code",
   "execution_count": 2,
   "id": "final-sister",
   "metadata": {},
   "outputs": [],
   "source": [
    "problem = prb.PRB(prbFile)"
   ]
  },
  {
   "cell_type": "markdown",
   "id": "precious-mambo",
   "metadata": {},
   "source": [
    "If one passes a string, it is assummed to be the source."
   ]
  },
  {
   "cell_type": "code",
   "execution_count": 3,
   "id": "suspended-disability",
   "metadata": {},
   "outputs": [],
   "source": [
    "problem = prb.PRB(prbFile.read_text())"
   ]
  },
  {
   "cell_type": "markdown",
   "id": "stylish-nepal",
   "metadata": {},
   "source": [
    "`problem.description.text` gives the description of the problem provided by its author."
   ]
  },
  {
   "cell_type": "code",
   "execution_count": 4,
   "id": "unavailable-professor",
   "metadata": {},
   "outputs": [
    {
     "name": "stdout",
     "output_type": "stream",
     "text": [
      "Mafia game example\n",
      "\n",
      "1. Maniac has almost killed Paul, but doc has saved Paul's him!\n",
      "2. Maniac has killed Vlad and burned his flat.\n",
      "3. The psycho had a vision about Vlad.\n",
      "4. The psycho had a vision about Nick.\n",
      "5. Maniac has killed Nick and burned his flat.\n"
     ]
    }
   ],
   "source": [
    "print(problem.description.text)"
   ]
  },
  {
   "cell_type": "markdown",
   "id": "owned-mechanism",
   "metadata": {},
   "source": [
    "`problem.orig.mappingFacts` is a collection of facts. The problem we use as an example is a classic Mafia/Werewolf game without seer roles, so the only facts in this example are `NotMapsFact`."
   ]
  },
  {
   "cell_type": "code",
   "execution_count": 5,
   "id": "following-philip",
   "metadata": {},
   "outputs": [
    {
     "data": {
      "text/plain": [
       "[<prb.NotMapsFact at 0x7f6c55a98e80>,\n",
       " <prb.NotMapsFact at 0x7f6c55a93c00>,\n",
       " <prb.NotMapsFact at 0x7f6c55a98f80>,\n",
       " <prb.NotMapsFact at 0x7f6c55a98680>,\n",
       " <prb.NotMapsFact at 0x7f6c58b07f00>,\n",
       " <prb.NotMapsFact at 0x7f6c58b07d80>]"
      ]
     },
     "execution_count": 5,
     "metadata": {},
     "output_type": "execute_result"
    }
   ],
   "source": [
    "f = problem.orig.mappingFacts[0]\n",
    "problem.orig.mappingFacts"
   ]
  },
  {
   "cell_type": "markdown",
   "id": "sealed-journalist",
   "metadata": {},
   "source": [
    "Each fact can be related to paragraph number in the problem text."
   ]
  },
  {
   "cell_type": "code",
   "execution_count": 6,
   "id": "progressive-crawford",
   "metadata": {},
   "outputs": [
    {
     "data": {
      "text/plain": [
       "1"
      ]
     },
     "execution_count": 6,
     "metadata": {},
     "output_type": "execute_result"
    }
   ],
   "source": [
    "f.paragraphNo"
   ]
  },
  {
   "cell_type": "markdown",
   "id": "focused-cisco",
   "metadata": {},
   "source": [
    "Each `MappingFact` maps entities to each other (states their equivalence), or states their inequivalence."
   ]
  },
  {
   "cell_type": "code",
   "execution_count": 7,
   "id": "annoying-gender",
   "metadata": {},
   "outputs": [
    {
     "data": {
      "text/plain": [
       "(<prb.Entity at 0x7f6c58abd580>, <prb.Entity at 0x7f6c58b11be0>)"
      ]
     },
     "execution_count": 7,
     "metadata": {},
     "output_type": "execute_result"
    }
   ],
   "source": [
    "e = f.entities[1]\n",
    "f.entities"
   ]
  },
  {
   "cell_type": "markdown",
   "id": "russian-diagram",
   "metadata": {},
   "source": [
    "Each entity has its `id` and a ref to `dimension` describing that variable."
   ]
  },
  {
   "cell_type": "code",
   "execution_count": 8,
   "id": "recorded-rachel",
   "metadata": {},
   "outputs": [
    {
     "data": {
      "text/plain": [
       "('Role', 'doc')"
      ]
     },
     "execution_count": 8,
     "metadata": {},
     "output_type": "execute_result"
    }
   ],
   "source": [
    "e.dimension.name, e.id"
   ]
  }
 ],
 "metadata": {
  "kernelspec": {
   "display_name": "Python 3",
   "language": "python",
   "name": "python3"
  },
  "language_info": {
   "codemirror_mode": {
    "name": "ipython",
    "version": 3
   },
   "file_extension": ".py",
   "mimetype": "text/x-python",
   "name": "python",
   "nbconvert_exporter": "python",
   "pygments_lexer": "ipython3",
   "version": "3.9.7"
  }
 },
 "nbformat": 4,
 "nbformat_minor": 5
}
